{
 "cells": [
  {
   "cell_type": "markdown",
   "id": "0025e6e5",
   "metadata": {},
   "source": [
    "# Train, Test and Validation Data Split"
   ]
  },
  {
   "cell_type": "code",
   "execution_count": 1,
   "id": "3cbf0aec",
   "metadata": {},
   "outputs": [],
   "source": [
    "from pathlib import Path\n",
    "import numpy as np\n",
    "import matplotlib.pyplot as plt\n",
    "from collections import Counter"
   ]
  },
  {
   "cell_type": "markdown",
   "id": "7751e3f2",
   "metadata": {},
   "source": [
    "### Dataset Split Configuration\n",
    "\n",
    "This cell defines the split proportions for dividing the dataset into training, validation, and test sets:\n",
    "\n",
    "- **Training Set**: 70% of the data\n",
    "- **Validation Set**: 15% of the data\n",
    "- **Test Set**: 15% of the data\n",
    "\n",
    "A floating-point assertion ensures that the split ratios sum exactly to 1.0, maintaining proper partitioning. A fixed random seed (`2025`) is also defined for reproducibility of shuffling operations.\n"
   ]
  },
  {
   "cell_type": "code",
   "execution_count": 2,
   "id": "bf9f9f5e",
   "metadata": {},
   "outputs": [],
   "source": [
    "SEED        = 2025\n",
    "TRAIN_FRAC  = 0.70\n",
    "VAL_FRAC    = 0.15\n",
    "TEST_FRAC   = 0.15\n",
    "assert abs(TRAIN_FRAC + VAL_FRAC + TEST_FRAC - 1.0) < 1e-6"
   ]
  },
  {
   "cell_type": "markdown",
   "id": "89588d49",
   "metadata": {},
   "source": [
    "### Defining Paths to Spectrogram Dataset\n",
    "\n",
    "This cell defines the directory paths used to load the preprocessed mel spectrogram data:\n",
    "\n",
    "- `NOTEBOOK_DIR` refers to the current working directory.\n",
    "- `PROJECT_ROOT` points to the root directory of the project.\n",
    "- `SPEC_ROOT` identifies the location where spectrogram data is stored.\n",
    "\n",
    "File paths `X_path` and `y_path` are then constructed to point to the saved NumPy arrays (`X\n"
   ]
  },
  {
   "cell_type": "code",
   "execution_count": 3,
   "id": "52fb5e75",
   "metadata": {},
   "outputs": [],
   "source": [
    "NOTEBOOK_DIR = Path.cwd()\n",
    "PROJECT_ROOT = NOTEBOOK_DIR.parent\n",
    "SPEC_ROOT    = PROJECT_ROOT / \"data\" / \"spectrograms\"\n",
    "X_path, y_path = SPEC_ROOT / \"X_mels.npy\", SPEC_ROOT / \"y_labels.npy\""
   ]
  },
  {
   "cell_type": "markdown",
   "id": "c0c29517",
   "metadata": {},
   "source": [
    "### Loading Spectrogram Dataset\n",
    "\n",
    "The full dataset is loaded from the saved `.npy` files:\n",
    "\n",
    "- `X` contains mel spectrogram images and is loaded using memory-mapped mode (`mmap_mode=\"r\"`) for efficient access without loading the entire array into RAM.\n",
    "- `y` contains the corresponding genre labels as a NumPy array.\n",
    "\n",
    "The variable `N` stores the total number of labeled segments, and the shapes of both arrays are printed to confirm successful loading.\n"
   ]
  },
  {
   "cell_type": "code",
   "execution_count": null,
   "id": "e6d7f921",
   "metadata": {},
   "outputs": [
    {
     "name": "stdout",
     "output_type": "stream",
     "text": [
      "Loaded full set: X(18972, 150, 150, 1), y(18972,)\n"
     ]
    }
   ],
   "source": [
    "X = np.load(X_path, mmap_mode=\"r\")           \n",
    "y = np.load(y_path)                          \n",
    "N = len(y)\n",
    "print(f\"Loaded full set: X{X.shape}, y{y.shape}\")"
   ]
  },
  {
   "cell_type": "markdown",
   "id": "6ae1f466",
   "metadata": {},
   "source": [
    "### Shuffling and Splitting the Dataset\n",
    "\n",
    "The dataset is randomly shuffled and partitioned into training, validation, and test sets:\n",
    "\n",
    "- A random permutation of indices is generated using NumPy’s `default_rng` seeded for reproducibility.\n",
    "- The total number of samples is split based on the predefined fractions:\n",
    "  - `TRAIN_FRAC` (70%)\n",
    "  - `VAL_FRAC` (15%)\n",
    "  - Remaining 15% is used for the test set.\n",
    "\n",
    "Three index arrays (`idx_train`, `idx_val`, and `idx_test`) are created to reference the samples in each subset without duplicating the data.\n"
   ]
  },
  {
   "cell_type": "code",
   "execution_count": 5,
   "id": "d2c07235",
   "metadata": {},
   "outputs": [],
   "source": [
    "rng      = np.random.default_rng(SEED)\n",
    "indices  = rng.permutation(N)\n",
    "\n",
    "n_train  = int(TRAIN_FRAC * N)\n",
    "n_val    = int(VAL_FRAC   * N)\n",
    "\n",
    "idx_train = indices[:n_train]\n",
    "idx_val   = indices[n_train : n_train + n_val]\n",
    "idx_test  = indices[n_train + n_val:]"
   ]
  },
  {
   "cell_type": "markdown",
   "id": "33f52080",
   "metadata": {},
   "source": [
    "### Creating Train, Validation, and Test Sets\n",
    "\n",
    "The shuffled indices generated earlier are used to extract corresponding data splits from the full dataset:\n",
    "\n",
    "- `X_train`, `y_train`: Training set inputs and labels.\n",
    "- `X_val`, `y_val`: Validation set inputs and labels.\n",
    "- `X_test`, `y_test`: Test set inputs and labels.\n",
    "\n",
    "Each subset is created by indexing into the original arrays `X` and `y`, ensuring no data leakage between splits.\n"
   ]
  },
  {
   "cell_type": "code",
   "execution_count": 6,
   "id": "296f5b50",
   "metadata": {},
   "outputs": [],
   "source": [
    "X_train, y_train = X[idx_train], y[idx_train]\n",
    "X_val,   y_val   = X[idx_val],   y[idx_val]\n",
    "X_test,  y_test  = X[idx_test],  y[idx_test]"
   ]
  },
  {
   "cell_type": "code",
   "execution_count": 7,
   "id": "8dcb353e",
   "metadata": {},
   "outputs": [
    {
     "name": "stdout",
     "output_type": "stream",
     "text": [
      "train split OK → (13280, 150, 150, 1)\n",
      "val   split OK → (2845, 150, 150, 1)\n",
      "test  split OK → (2847, 150, 150, 1)\n"
     ]
    }
   ],
   "source": [
    "for name, Xa, ya in [(\"train\", X_train, y_train),\n",
    "                     (\"val\",   X_val,   y_val),\n",
    "                     (\"test\",  X_test,  y_test)]:\n",
    "    assert len(Xa) == len(ya), f\"{name}: length mismatch\"\n",
    "    assert Xa.ndim == 4,       f\"{name}: X ndim != 4\"\n",
    "    assert np.issubdtype(Xa.dtype, np.floating) and np.issubdtype(ya.dtype, np.integer)\n",
    "    print(f\"{name:5s} split OK → {Xa.shape}\")"
   ]
  },
  {
   "cell_type": "markdown",
   "id": "c5f2aea4",
   "metadata": {},
   "source": [
    "### Class Distribution Analysis Across Splits\n",
    "\n",
    "This cell verifies and visualizes the class balance within the training, validation, and test sets:\n",
    "\n",
    "- **Genre Mapping**:  \n",
    "  If the `GENRES` list is not already defined, it is reconstructed by listing genre folders in the dataset directory.\n",
    "\n",
    "- **`show_counts(...)`**:  \n",
    "  Prints the number of samples per genre label using Python’s `Counter`, along with the class imbalance ratio (max count / min count). This helps identify any class imbalance that may affect model training.\n",
    "\n",
    "- **`bar_counts(...)`**:  \n",
    "  Generates a bar plot showing the number of samples per genre in each split. Class labels are shown using the genre names for better interpretability.\n",
    "\n",
    "These checks help ensure the dataset splits preserve class diversity and highlight any need for resampling or weighted loss adjustments in future training.\n"
   ]
  },
  {
   "cell_type": "code",
   "execution_count": 8,
   "id": "721c909f",
   "metadata": {},
   "outputs": [],
   "source": [
    "try:\n",
    "    GENRES\n",
    "except NameError:\n",
    "    DATA_ROOT = PROJECT_ROOT / \"data\" / \"genres_original\"\n",
    "    GENRES = sorted(p.name for p in DATA_ROOT.iterdir() if p.is_dir())"
   ]
  },
  {
   "cell_type": "code",
   "execution_count": 9,
   "id": "5af9c7f7",
   "metadata": {},
   "outputs": [],
   "source": [
    "def show_counts(y_vec, title):\n",
    "    from collections import Counter\n",
    "    cnts = Counter(y_vec)\n",
    "    ratio = max(cnts.values()) / min(cnts.values())\n",
    "    print(f\"\\n{title}\\n\" + \"-\"*len(title))\n",
    "    for lab in sorted(cnts):\n",
    "        print(f\"{lab:2d} – {GENRES[lab]:12s}: {cnts[lab]}\")\n",
    "    print(f\"Total: {len(y_vec)}   |  Imbalance ratio: {ratio:.2f}\")\n"
   ]
  },
  {
   "cell_type": "code",
   "execution_count": 10,
   "id": "bbe884eb",
   "metadata": {},
   "outputs": [],
   "source": [
    "def bar_counts(y_vec, title):\n",
    "    labs, nums = np.unique(y_vec, return_counts=True)\n",
    "    plt.figure(figsize=(8,3))\n",
    "    plt.bar(labs, nums, tick_label=[GENRES[i] for i in labs])\n",
    "    plt.title(title); plt.ylabel(\"samples\")\n",
    "    plt.xticks(rotation=45, ha=\"right\"); plt.tight_layout(); plt.show()"
   ]
  },
  {
   "cell_type": "code",
   "execution_count": 11,
   "id": "cad15714",
   "metadata": {},
   "outputs": [
    {
     "name": "stdout",
     "output_type": "stream",
     "text": [
      "\n",
      "Training split\n",
      "--------------\n",
      " 0 – blues       : 1295\n",
      " 1 – classical   : 1340\n",
      " 2 – country     : 1333\n",
      " 3 – disco       : 1294\n",
      " 4 – hiphop      : 1310\n",
      " 5 – jazz        : 1360\n",
      " 6 – metal       : 1324\n",
      " 7 – pop         : 1343\n",
      " 8 – reggae      : 1355\n",
      " 9 – rock        : 1326\n",
      "Total: 13280   |  Imbalance ratio: 1.05\n"
     ]
    },
    {
     "data": {
      "image/png": "[encoded data removed]",
      "text/plain": [
       "<Figure size 800x300 with 1 Axes>"
      ]
     },
     "metadata": {},
     "output_type": "display_data"
    },
    {
     "name": "stdout",
     "output_type": "stream",
     "text": [
      "\n",
      "Validation split\n",
      "----------------\n",
      " 0 – blues       : 290\n",
      " 1 – classical   : 287\n",
      " 2 – country     : 266\n",
      " 3 – disco       : 317\n",
      " 4 – hiphop      : 296\n",
      " 5 – jazz        : 260\n",
      " 6 – metal       : 293\n",
      " 7 – pop         : 278\n",
      " 8 – reggae      : 279\n",
      " 9 – rock        : 279\n",
      "Total: 2845   |  Imbalance ratio: 1.22\n"
     ]
    },
    {
     "data": {
      "image/png": "[encoded data removed]",
      "text/plain": [
       "<Figure size 800x300 with 1 Axes>"
      ]
     },
     "metadata": {},
     "output_type": "display_data"
    },
    {
     "name": "stdout",
     "output_type": "stream",
     "text": [
      "\n",
      "Test split\n",
      "----------\n",
      " 0 – blues       : 315\n",
      " 1 – classical   : 271\n",
      " 2 – country     : 298\n",
      " 3 – disco       : 288\n",
      " 4 – hiphop      : 292\n",
      " 5 – jazz        : 261\n",
      " 6 – metal       : 283\n",
      " 7 – pop         : 279\n",
      " 8 – reggae      : 266\n",
      " 9 – rock        : 294\n",
      "Total: 2847   |  Imbalance ratio: 1.21\n"
     ]
    },
    {
     "data": {
      "image/png": "[encoded data removed]",
      "text/plain": [
       "<Figure size 800x300 with 1 Axes>"
      ]
     },
     "metadata": {},
     "output_type": "display_data"
    }
   ],
   "source": [
    "\n",
    "for lbl, y_vec in [(\"Training split\", y_train),\n",
    "                   (\"Validation split\", y_val),\n",
    "                   (\"Test split\", y_test)]:\n",
    "    show_counts(y_vec, lbl)\n",
    "    bar_counts(y_vec, lbl)"
   ]
  },
  {
   "cell_type": "markdown",
   "id": "88c6cc0d",
   "metadata": {},
   "source": [
    "***Observations on Class Distribution***\n",
    "\n",
    "The class distribution across training, validation, and test sets is relatively balanced:\n",
    "\n",
    "- **Training Set**:  \n",
    "  Contains 13,280 samples with an imbalance ratio of **1.05**, indicating near-uniform representation across all genres. This provides a solid foundation for unbiased model training.\n",
    "\n",
    "- **Validation and Test Sets**:  \n",
    "  Each contains ~2,845 samples, with imbalance ratios of **1.22** and **1.21** respectively. While there is mild variation in class counts (e.g., disco slightly overrepresented in validation), the overall distribution remains acceptable for reliable model evaluation.\n",
    "\n",
    "No further resampling or weighting is required at this stage, as the class balance is well-maintained across all dataset splits.\n"
   ]
  },
  {
   "cell_type": "markdown",
   "id": "86685697",
   "metadata": {},
   "source": [
    "### Saving Train, Validation, and Test Splits\n",
    "\n",
    "This cell saves the final train, validation, and test datasets to a new directory (`data/splits/`) for future model training and evaluation:\n",
    "\n",
    "- The directory is created if it does not already exist.\n",
    "- Each of the six arrays (`X_train`, `y_train`, `X_val`, `y_val`, `X_test`, `y_test`) is saved as a separate `.npy` file using NumPy's binary format for efficient storage and loading.\n",
    "- Pickling is disabled for safety and reproducibility.\n",
    "\n",
    "Saving the split datasets ensures that data preparation steps do not need to be repeated and enables consistent reuse across different notebooks or experiments.\n"
   ]
  },
  {
   "cell_type": "code",
   "execution_count": 12,
   "id": "8bfb60a0",
   "metadata": {},
   "outputs": [
    {
     "name": "stdout",
     "output_type": "stream",
     "text": [
      "\n",
      "Saved splits to /Users/jiveshdhakate/Documents/UCD Sem 2/Deep Learning/Project/music_genre_classifier/data/splits\n"
     ]
    }
   ],
   "source": [
    "split_root = PROJECT_ROOT / \"data\" / \"splits\"\n",
    "split_root.mkdir(parents=True, exist_ok=True)\n",
    "\n",
    "for arr, name in [(X_train, \"X_train\"), (y_train, \"y_train\"),\n",
    "                  (X_val,   \"X_val\"),   (y_val,   \"y_val\"),\n",
    "                  (X_test,  \"X_test\"),  (y_test,  \"y_test\")]:\n",
    "    np.save(split_root / f\"{name}.npy\", arr, allow_pickle=False)\n",
    "\n",
    "print(f\"\\nSaved splits to {split_root}\")"
   ]
  }
 ],
 "metadata": {
  "kernelspec": {
   "display_name": ".venv",
   "language": "python",
   "name": "python3"
  },
  "language_info": {
   "codemirror_mode": {
    "name": "ipython",
    "version": 3
   },
   "file_extension": ".py",
   "mimetype": "text/x-python",
   "name": "python",
   "nbconvert_exporter": "python",
   "pygments_lexer": "ipython3",
   "version": "3.12.4"
  }
 },
 "nbformat": 4,
 "nbformat_minor": 5
}
